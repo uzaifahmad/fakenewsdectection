{
 "cells": [
  {
   "cell_type": "markdown",
   "id": "35a49c03",
   "metadata": {},
   "source": [
    "Importing necessary library"
   ]
  },
  {
   "cell_type": "code",
   "execution_count": 20,
   "id": "ea3b1250",
   "metadata": {},
   "outputs": [],
   "source": [
    "import pandas as pd\n",
    "from sklearn.model_selection import train_test_split\n",
    "from sklearn.feature_extraction.text import TfidfVectorizer\n",
    "from sklearn.linear_model import PassiveAggressiveClassifier\n",
    "from sklearn.metrics import accuracy_score, confusion_matrix"
   ]
  },
  {
   "cell_type": "code",
   "execution_count": 21,
   "id": "2f4022db",
   "metadata": {},
   "outputs": [
    {
     "data": {
      "text/html": [
       "<div>\n",
       "<style scoped>\n",
       "    .dataframe tbody tr th:only-of-type {\n",
       "        vertical-align: middle;\n",
       "    }\n",
       "\n",
       "    .dataframe tbody tr th {\n",
       "        vertical-align: top;\n",
       "    }\n",
       "\n",
       "    .dataframe thead th {\n",
       "        text-align: right;\n",
       "    }\n",
       "</style>\n",
       "<table border=\"1\" class=\"dataframe\">\n",
       "  <thead>\n",
       "    <tr style=\"text-align: right;\">\n",
       "      <th></th>\n",
       "      <th>Unnamed: 0</th>\n",
       "      <th>title</th>\n",
       "      <th>text</th>\n",
       "      <th>label</th>\n",
       "    </tr>\n",
       "  </thead>\n",
       "  <tbody>\n",
       "    <tr>\n",
       "      <th>0</th>\n",
       "      <td>8476</td>\n",
       "      <td>You Can Smell Hillary’s Fear</td>\n",
       "      <td>Daniel Greenfield, a Shillman Journalism Fello...</td>\n",
       "      <td>FAKE</td>\n",
       "    </tr>\n",
       "    <tr>\n",
       "      <th>1</th>\n",
       "      <td>10294</td>\n",
       "      <td>Watch The Exact Moment Paul Ryan Committed Pol...</td>\n",
       "      <td>Google Pinterest Digg Linkedin Reddit Stumbleu...</td>\n",
       "      <td>FAKE</td>\n",
       "    </tr>\n",
       "    <tr>\n",
       "      <th>2</th>\n",
       "      <td>3608</td>\n",
       "      <td>Kerry to go to Paris in gesture of sympathy</td>\n",
       "      <td>U.S. Secretary of State John F. Kerry said Mon...</td>\n",
       "      <td>REAL</td>\n",
       "    </tr>\n",
       "    <tr>\n",
       "      <th>3</th>\n",
       "      <td>10142</td>\n",
       "      <td>Bernie supporters on Twitter erupt in anger ag...</td>\n",
       "      <td>— Kaydee King (@KaydeeKing) November 9, 2016 T...</td>\n",
       "      <td>FAKE</td>\n",
       "    </tr>\n",
       "    <tr>\n",
       "      <th>4</th>\n",
       "      <td>875</td>\n",
       "      <td>The Battle of New York: Why This Primary Matters</td>\n",
       "      <td>It's primary day in New York and front-runners...</td>\n",
       "      <td>REAL</td>\n",
       "    </tr>\n",
       "  </tbody>\n",
       "</table>\n",
       "</div>"
      ],
      "text/plain": [
       "   Unnamed: 0                                              title  \\\n",
       "0        8476                       You Can Smell Hillary’s Fear   \n",
       "1       10294  Watch The Exact Moment Paul Ryan Committed Pol...   \n",
       "2        3608        Kerry to go to Paris in gesture of sympathy   \n",
       "3       10142  Bernie supporters on Twitter erupt in anger ag...   \n",
       "4         875   The Battle of New York: Why This Primary Matters   \n",
       "\n",
       "                                                text label  \n",
       "0  Daniel Greenfield, a Shillman Journalism Fello...  FAKE  \n",
       "1  Google Pinterest Digg Linkedin Reddit Stumbleu...  FAKE  \n",
       "2  U.S. Secretary of State John F. Kerry said Mon...  REAL  \n",
       "3  — Kaydee King (@KaydeeKing) November 9, 2016 T...  FAKE  \n",
       "4  It's primary day in New York and front-runners...  REAL  "
      ]
     },
     "execution_count": 21,
     "metadata": {},
     "output_type": "execute_result"
    }
   ],
   "source": [
    "## Read the dataset, convert it into dataframe\n",
    "dataframe = pd.read_csv('news.csv')\n",
    "dataframe.head()"
   ]
  },
  {
   "cell_type": "code",
   "execution_count": 22,
   "id": "d524e1db",
   "metadata": {},
   "outputs": [
    {
     "name": "stdout",
     "output_type": "stream",
     "text": [
      "0       Daniel Greenfield, a Shillman Journalism Fello...\n",
      "1       Google Pinterest Digg Linkedin Reddit Stumbleu...\n",
      "2       U.S. Secretary of State John F. Kerry said Mon...\n",
      "3       — Kaydee King (@KaydeeKing) November 9, 2016 T...\n",
      "4       It's primary day in New York and front-runners...\n",
      "                              ...                        \n",
      "6330    The State Department told the Republican Natio...\n",
      "6331    The ‘P’ in PBS Should Stand for ‘Plutocratic’ ...\n",
      "6332     Anti-Trump Protesters Are Tools of the Oligar...\n",
      "6333    ADDIS ABABA, Ethiopia —President Obama convene...\n",
      "6334    Jeb Bush Is Suddenly Attacking Trump. Here's W...\n",
      "Name: text, Length: 6335, dtype: object\n",
      "0       FAKE\n",
      "1       FAKE\n",
      "2       REAL\n",
      "3       FAKE\n",
      "4       REAL\n",
      "        ... \n",
      "6330    REAL\n",
      "6331    FAKE\n",
      "6332    FAKE\n",
      "6333    REAL\n",
      "6334    REAL\n",
      "Name: label, Length: 6335, dtype: object\n"
     ]
    }
   ],
   "source": [
    "## Split data into X & Y\n",
    "x = dataframe['text']\n",
    "y = dataframe['label']\n",
    "print(x)\n",
    "print(y)"
   ]
  },
  {
   "cell_type": "code",
   "execution_count": 23,
   "id": "47f35afb",
   "metadata": {},
   "outputs": [],
   "source": [
    "x_train,x_test,y_train,y_test = train_test_split(x,y,test_size=0.2,random_state=0)\n"
   ]
  },
  {
   "cell_type": "code",
   "execution_count": 24,
   "id": "19fc3b13",
   "metadata": {},
   "outputs": [],
   "source": [
    "## Now we need to fit the TFIDF Vectorizer.\n",
    "# max_df = 0.50 means \"ignore terms that appear in more than 50% of the documents\".\n",
    "# max_df = 25 means \"ignore terms that appear in more than 25 documents\".\n"
   ]
  },
  {
   "cell_type": "code",
   "execution_count": 25,
   "id": "c16ab019",
   "metadata": {},
   "outputs": [],
   "source": [
    "tfvect = TfidfVectorizer(stop_words='english',max_df=0.7)"
   ]
  },
  {
   "cell_type": "code",
   "execution_count": 26,
   "id": "59e2ea5e",
   "metadata": {},
   "outputs": [],
   "source": [
    "tfid_x_train = tfvect.fit_transform(x_train)"
   ]
  },
  {
   "cell_type": "code",
   "execution_count": 27,
   "id": "a000028c",
   "metadata": {},
   "outputs": [],
   "source": [
    "tfid_x_test = tfvect.transform(x_test)\n"
   ]
  },
  {
   "cell_type": "code",
   "execution_count": 28,
   "id": "fbfb3182",
   "metadata": {},
   "outputs": [],
   "source": [
    "## Now let's fit the Machine Learning Model\n",
    "classifier = PassiveAggressiveClassifier(max_iter=50)"
   ]
  },
  {
   "cell_type": "code",
   "execution_count": 29,
   "id": "d2e547e5",
   "metadata": {},
   "outputs": [
    {
     "data": {
      "text/plain": [
       "PassiveAggressiveClassifier(max_iter=50)"
      ]
     },
     "execution_count": 29,
     "metadata": {},
     "output_type": "execute_result"
    }
   ],
   "source": [
    "classifier.fit(tfid_x_train,y_train)"
   ]
  },
  {
   "cell_type": "code",
   "execution_count": 30,
   "id": "b9d68f07",
   "metadata": {},
   "outputs": [],
   "source": [
    "## Now let's check model accuracy. Let's fit model on the test data.\n"
   ]
  },
  {
   "cell_type": "code",
   "execution_count": 31,
   "id": "282a1150",
   "metadata": {},
   "outputs": [],
   "source": [
    "y_pred = classifier.predict(tfid_x_test)"
   ]
  },
  {
   "cell_type": "code",
   "execution_count": 32,
   "id": "a44d62db",
   "metadata": {},
   "outputs": [],
   "source": [
    "score = accuracy_score(y_test,y_pred)"
   ]
  },
  {
   "cell_type": "code",
   "execution_count": 33,
   "id": "a4585b7f",
   "metadata": {},
   "outputs": [],
   "source": [
    "cf = confusion_matrix(y_test,y_pred, labels=['FAKE','REAL'])"
   ]
  },
  {
   "cell_type": "code",
   "execution_count": 34,
   "id": "3298e7eb",
   "metadata": {},
   "outputs": [
    {
     "name": "stdout",
     "output_type": "stream",
     "text": [
      "[[571  44]\n",
      " [ 40 612]]\n"
     ]
    }
   ],
   "source": [
    "print(cf)\n",
    "\n",
    "# [[575  40]\n",
    "# [ 40 612]]"
   ]
  },
  {
   "cell_type": "code",
   "execution_count": 35,
   "id": "5414be0e",
   "metadata": {},
   "outputs": [],
   "source": [
    "## Let's create function for test the model on the real-time data.\n",
    "\n",
    "def fake_news_det(news):\n",
    "    input_data = [news]\n",
    "    vectorized_input_data = tfvect.transform(input_data)\n",
    "    prediction = classifier.predict(vectorized_input_data)\n",
    "    print(prediction)"
   ]
  },
  {
   "cell_type": "code",
   "execution_count": 36,
   "id": "cbf0ccd6",
   "metadata": {},
   "outputs": [
    {
     "name": "stdout",
     "output_type": "stream",
     "text": [
      "['FAKE']\n"
     ]
    }
   ],
   "source": [
    "fake_news_det(\"\"\"Go to Article President Barack Obama has been \n",
    "campaigning hard for the woman who is supposedly going to extend his legacy \n",
    "four more years. The only problem with stumping for Hillary Clinton, however, \n",
    "is sheâ€™s not exactly a candidate easy to get too enthused about.  \"\"\")\n",
    "# ['FAKE']"
   ]
  },
  {
   "cell_type": "code",
   "execution_count": 37,
   "id": "0f932ac8",
   "metadata": {},
   "outputs": [],
   "source": [
    "# Let's save the model into pickle file so that we can use it in flask app.\n",
    "import pickle\n"
   ]
  },
  {
   "cell_type": "code",
   "execution_count": 38,
   "id": "b23e4d20",
   "metadata": {},
   "outputs": [],
   "source": [
    "pickle.dump(classifier,open('model.pkl', 'wb'))"
   ]
  },
  {
   "cell_type": "code",
   "execution_count": null,
   "id": "a365fe6e",
   "metadata": {},
   "outputs": [],
   "source": []
  }
 ],
 "metadata": {
  "kernelspec": {
   "display_name": "Python 3 (ipykernel)",
   "language": "python",
   "name": "python3"
  },
  "language_info": {
   "codemirror_mode": {
    "name": "ipython",
    "version": 3
   },
   "file_extension": ".py",
   "mimetype": "text/x-python",
   "name": "python",
   "nbconvert_exporter": "python",
   "pygments_lexer": "ipython3",
   "version": "3.9.7"
  }
 },
 "nbformat": 4,
 "nbformat_minor": 5
}
